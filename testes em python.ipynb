{
 "cells": [
  {
   "cell_type": "markdown",
   "id": "ee12202e",
   "metadata": {},
   "source": [
    "# testes em python"
   ]
  },
  {
   "cell_type": "code",
   "execution_count": 2,
   "id": "49de9c6b",
   "metadata": {},
   "outputs": [
    {
     "ename": "NameError",
     "evalue": "name 'os' is not defined",
     "output_type": "error",
     "traceback": [
      "\u001b[0;31m---------------------------------------------------------------------------\u001b[0m",
      "\u001b[0;31mNameError\u001b[0m                                 Traceback (most recent call last)",
      "Cell \u001b[0;32mIn[2], line 1\u001b[0m\n\u001b[0;32m----> 1\u001b[0m \u001b[43mos\u001b[49m\u001b[38;5;241m.\u001b[39msystem(\u001b[38;5;124m'\u001b[39m\u001b[38;5;124mls\u001b[39m\u001b[38;5;124m'\u001b[39m)\n",
      "\u001b[0;31mNameError\u001b[0m: name 'os' is not defined"
     ]
    }
   ],
   "source": [
    "os.system('ls')"
   ]
  },
  {
   "cell_type": "code",
   "execution_count": 3,
   "id": "998673d5",
   "metadata": {},
   "outputs": [],
   "source": [
    "import os"
   ]
  },
  {
   "cell_type": "code",
   "execution_count": 4,
   "id": "059079c2",
   "metadata": {},
   "outputs": [
    {
     "name": "stdout",
     "output_type": "stream",
     "text": [
      "\u001b[34mbackend-mvp-puc\u001b[m\u001b[m\n",
      "\u001b[34mcolap\u001b[m\u001b[m\n",
      "\u001b[34mdesenvolvimento-full-stack-puc\u001b[m\u001b[m\n",
      "\u001b[34mfrontend-mvp-puc\u001b[m\u001b[m\n",
      "pnad_estudo_lf.ipynb\n",
      "testes em python.ipynb\n"
     ]
    },
    {
     "data": {
      "text/plain": [
       "0"
      ]
     },
     "execution_count": 4,
     "metadata": {},
     "output_type": "execute_result"
    }
   ],
   "source": [
    "os.system('ls')"
   ]
  },
  {
   "cell_type": "code",
   "execution_count": 6,
   "id": "68080b86",
   "metadata": {},
   "outputs": [
    {
     "name": "stderr",
     "output_type": "stream",
     "text": [
      "mkdir: illegal option -- -\n",
      "usage: mkdir [-pv] [-m mode] directory_name ...\n"
     ]
    },
    {
     "data": {
      "text/plain": [
       "16384"
      ]
     },
     "execution_count": 6,
     "metadata": {},
     "output_type": "execute_result"
    }
   ],
   "source": [
    "os.system('mkdir --h')"
   ]
  },
  {
   "cell_type": "code",
   "execution_count": 7,
   "id": "a277faca",
   "metadata": {},
   "outputs": [
    {
     "data": {
      "text/plain": [
       "0"
      ]
     },
     "execution_count": 7,
     "metadata": {},
     "output_type": "execute_result"
    }
   ],
   "source": [
    "os.system('mkdir -p \"ans\"')"
   ]
  },
  {
   "cell_type": "code",
   "execution_count": 8,
   "id": "30bcf024",
   "metadata": {},
   "outputs": [
    {
     "name": "stdout",
     "output_type": "stream",
     "text": [
      "\u001b[34mans\u001b[m\u001b[m\n",
      "\u001b[34mbackend-mvp-puc\u001b[m\u001b[m\n",
      "\u001b[34mcolap\u001b[m\u001b[m\n",
      "\u001b[34mdesenvolvimento-full-stack-puc\u001b[m\u001b[m\n",
      "\u001b[34mfrontend-mvp-puc\u001b[m\u001b[m\n",
      "pnad_estudo_lf.ipynb\n",
      "\u001b[34mteste\u001b[m\u001b[m\n",
      "testes em python.ipynb\n"
     ]
    },
    {
     "data": {
      "text/plain": [
       "0"
      ]
     },
     "execution_count": 8,
     "metadata": {},
     "output_type": "execute_result"
    }
   ],
   "source": [
    "os.system('ls')"
   ]
  },
  {
   "cell_type": "code",
   "execution_count": 9,
   "id": "da26d685",
   "metadata": {},
   "outputs": [
    {
     "ename": "ModuleNotFoundError",
     "evalue": "No module named 'wget'",
     "output_type": "error",
     "traceback": [
      "\u001b[0;31m---------------------------------------------------------------------------\u001b[0m",
      "\u001b[0;31mModuleNotFoundError\u001b[0m                       Traceback (most recent call last)",
      "Cell \u001b[0;32mIn[9], line 1\u001b[0m\n\u001b[0;32m----> 1\u001b[0m \u001b[38;5;28;01mimport\u001b[39;00m \u001b[38;5;21;01mwget\u001b[39;00m\n",
      "\u001b[0;31mModuleNotFoundError\u001b[0m: No module named 'wget'"
     ]
    }
   ],
   "source": [
    "import wget"
   ]
  },
  {
   "cell_type": "code",
   "execution_count": 10,
   "id": "cf2b076b",
   "metadata": {},
   "outputs": [
    {
     "name": "stdout",
     "output_type": "stream",
     "text": [
      "Collecting wget\n",
      "  Downloading wget-3.2.zip (10 kB)\n",
      "  Preparing metadata (setup.py) ... \u001b[?25ldone\n",
      "\u001b[?25hBuilding wheels for collected packages: wget\n",
      "  Building wheel for wget (setup.py) ... \u001b[?25ldone\n",
      "\u001b[?25h  Created wheel for wget: filename=wget-3.2-py3-none-any.whl size=9656 sha256=5661ef40ec95f977f34b2e286e04d15c2408bb27604c39a1ee03e971cef85081\n",
      "  Stored in directory: /Users/luisfrade/Library/Caches/pip/wheels/46/78/0e/8e5e2b500f83a682c8d7e7ce820638cf99faa894a662f71cf0\n",
      "Successfully built wget\n",
      "Installing collected packages: wget\n",
      "Successfully installed wget-3.2\n",
      "Note: you may need to restart the kernel to use updated packages.\n"
     ]
    }
   ],
   "source": [
    "pip install wget"
   ]
  },
  {
   "cell_type": "code",
   "execution_count": 11,
   "id": "7a6bb579",
   "metadata": {},
   "outputs": [],
   "source": [
    "import wget"
   ]
  },
  {
   "cell_type": "code",
   "execution_count": 4,
   "id": "1a75c456",
   "metadata": {},
   "outputs": [],
   "source": [
    "import basedosdados as bd"
   ]
  },
  {
   "cell_type": "code",
   "execution_count": 28,
   "id": "700d06eb",
   "metadata": {},
   "outputs": [
    {
     "name": "stderr",
     "output_type": "stream",
     "text": [
      "Downloading: 100%|████████████████████████| 521/521 [00:00<00:00, 1195.52rows/s]\n"
     ]
    },
    {
     "data": {
      "text/html": [
       "<div>\n",
       "<style scoped>\n",
       "    .dataframe tbody tr th:only-of-type {\n",
       "        vertical-align: middle;\n",
       "    }\n",
       "\n",
       "    .dataframe tbody tr th {\n",
       "        vertical-align: top;\n",
       "    }\n",
       "\n",
       "    .dataframe thead th {\n",
       "        text-align: right;\n",
       "    }\n",
       "</style>\n",
       "<table border=\"1\" class=\"dataframe\">\n",
       "  <thead>\n",
       "    <tr style=\"text-align: right;\">\n",
       "      <th></th>\n",
       "      <th>ano</th>\n",
       "      <th>mes</th>\n",
       "      <th>indice</th>\n",
       "      <th>variacao_mensal</th>\n",
       "      <th>variacao_trimestral</th>\n",
       "      <th>variacao_semestral</th>\n",
       "      <th>variacao_anual</th>\n",
       "      <th>variacao_doze_meses</th>\n",
       "    </tr>\n",
       "  </thead>\n",
       "  <tbody>\n",
       "    <tr>\n",
       "      <th>0</th>\n",
       "      <td>2014</td>\n",
       "      <td>1</td>\n",
       "      <td>3836.370000</td>\n",
       "      <td>0.55</td>\n",
       "      <td>2.02</td>\n",
       "      <td>3.21</td>\n",
       "      <td>0.55</td>\n",
       "      <td>5.59</td>\n",
       "    </tr>\n",
       "    <tr>\n",
       "      <th>1</th>\n",
       "      <td>1997</td>\n",
       "      <td>1</td>\n",
       "      <td>1379.330000</td>\n",
       "      <td>1.18</td>\n",
       "      <td>1.98</td>\n",
       "      <td>2.89</td>\n",
       "      <td>1.18</td>\n",
       "      <td>9.39</td>\n",
       "    </tr>\n",
       "    <tr>\n",
       "      <th>2</th>\n",
       "      <td>2008</td>\n",
       "      <td>1</td>\n",
       "      <td>2746.370000</td>\n",
       "      <td>0.54</td>\n",
       "      <td>1.67</td>\n",
       "      <td>2.64</td>\n",
       "      <td>0.54</td>\n",
       "      <td>4.56</td>\n",
       "    </tr>\n",
       "    <tr>\n",
       "      <th>3</th>\n",
       "      <td>2013</td>\n",
       "      <td>1</td>\n",
       "      <td>3633.440000</td>\n",
       "      <td>0.86</td>\n",
       "      <td>2.27</td>\n",
       "      <td>3.88</td>\n",
       "      <td>0.86</td>\n",
       "      <td>6.15</td>\n",
       "    </tr>\n",
       "    <tr>\n",
       "      <th>4</th>\n",
       "      <td>1989</td>\n",
       "      <td>1</td>\n",
       "      <td>0.000214</td>\n",
       "      <td>37.49</td>\n",
       "      <td>126.39</td>\n",
       "      <td>340.71</td>\n",
       "      <td>37.49</td>\n",
       "      <td>1149.22</td>\n",
       "    </tr>\n",
       "    <tr>\n",
       "      <th>...</th>\n",
       "      <td>...</td>\n",
       "      <td>...</td>\n",
       "      <td>...</td>\n",
       "      <td>...</td>\n",
       "      <td>...</td>\n",
       "      <td>...</td>\n",
       "      <td>...</td>\n",
       "      <td>...</td>\n",
       "    </tr>\n",
       "    <tr>\n",
       "      <th>516</th>\n",
       "      <td>2008</td>\n",
       "      <td>12</td>\n",
       "      <td>2892.860000</td>\n",
       "      <td>0.28</td>\n",
       "      <td>1.09</td>\n",
       "      <td>2.18</td>\n",
       "      <td>5.90</td>\n",
       "      <td>5.90</td>\n",
       "    </tr>\n",
       "    <tr>\n",
       "      <th>517</th>\n",
       "      <td>2015</td>\n",
       "      <td>12</td>\n",
       "      <td>4493.170000</td>\n",
       "      <td>0.96</td>\n",
       "      <td>2.82</td>\n",
       "      <td>4.24</td>\n",
       "      <td>10.67</td>\n",
       "      <td>10.67</td>\n",
       "    </tr>\n",
       "    <tr>\n",
       "      <th>518</th>\n",
       "      <td>2019</td>\n",
       "      <td>12</td>\n",
       "      <td>5320.250000</td>\n",
       "      <td>1.15</td>\n",
       "      <td>1.77</td>\n",
       "      <td>2.03</td>\n",
       "      <td>4.31</td>\n",
       "      <td>4.31</td>\n",
       "    </tr>\n",
       "    <tr>\n",
       "      <th>519</th>\n",
       "      <td>2010</td>\n",
       "      <td>5</td>\n",
       "      <td>3110.740000</td>\n",
       "      <td>0.43</td>\n",
       "      <td>1.53</td>\n",
       "      <td>3.47</td>\n",
       "      <td>3.09</td>\n",
       "      <td>5.22</td>\n",
       "    </tr>\n",
       "    <tr>\n",
       "      <th>520</th>\n",
       "      <td>2010</td>\n",
       "      <td>6</td>\n",
       "      <td>3110.740000</td>\n",
       "      <td>0.00</td>\n",
       "      <td>1.00</td>\n",
       "      <td>3.09</td>\n",
       "      <td>3.09</td>\n",
       "      <td>4.84</td>\n",
       "    </tr>\n",
       "  </tbody>\n",
       "</table>\n",
       "<p>521 rows × 8 columns</p>\n",
       "</div>"
      ],
      "text/plain": [
       "      ano  mes       indice  variacao_mensal  variacao_trimestral  \\\n",
       "0    2014    1  3836.370000             0.55                 2.02   \n",
       "1    1997    1  1379.330000             1.18                 1.98   \n",
       "2    2008    1  2746.370000             0.54                 1.67   \n",
       "3    2013    1  3633.440000             0.86                 2.27   \n",
       "4    1989    1     0.000214            37.49               126.39   \n",
       "..    ...  ...          ...              ...                  ...   \n",
       "516  2008   12  2892.860000             0.28                 1.09   \n",
       "517  2015   12  4493.170000             0.96                 2.82   \n",
       "518  2019   12  5320.250000             1.15                 1.77   \n",
       "519  2010    5  3110.740000             0.43                 1.53   \n",
       "520  2010    6  3110.740000             0.00                 1.00   \n",
       "\n",
       "     variacao_semestral  variacao_anual  variacao_doze_meses  \n",
       "0                  3.21            0.55                 5.59  \n",
       "1                  2.89            1.18                 9.39  \n",
       "2                  2.64            0.54                 4.56  \n",
       "3                  3.88            0.86                 6.15  \n",
       "4                340.71           37.49              1149.22  \n",
       "..                  ...             ...                  ...  \n",
       "516                2.18            5.90                 5.90  \n",
       "517                4.24           10.67                10.67  \n",
       "518                2.03            4.31                 4.31  \n",
       "519                3.47            3.09                 5.22  \n",
       "520                3.09            3.09                 4.84  \n",
       "\n",
       "[521 rows x 8 columns]"
      ]
     },
     "execution_count": 28,
     "metadata": {},
     "output_type": "execute_result"
    }
   ],
   "source": [
    "bd.read_table(dataset_id='br_ibge_ipca',table_id='mes_brasil', billing_project_id=\"pnad-estudo-lf\")"
   ]
  },
  {
   "cell_type": "code",
   "execution_count": 5,
   "id": "59271899",
   "metadata": {},
   "outputs": [
    {
     "name": "stderr",
     "output_type": "stream",
     "text": [
      "Downloading: 100%|█████████████████████████| 169/169 [00:00<00:00, 459.07rows/s]\n"
     ]
    },
    {
     "data": {
      "text/html": [
       "<div>\n",
       "<style scoped>\n",
       "    .dataframe tbody tr th:only-of-type {\n",
       "        vertical-align: middle;\n",
       "    }\n",
       "\n",
       "    .dataframe tbody tr th {\n",
       "        vertical-align: top;\n",
       "    }\n",
       "\n",
       "    .dataframe thead th {\n",
       "        text-align: right;\n",
       "    }\n",
       "</style>\n",
       "<table border=\"1\" class=\"dataframe\">\n",
       "  <thead>\n",
       "    <tr style=\"text-align: right;\">\n",
       "      <th></th>\n",
       "      <th>mes</th>\n",
       "      <th>variacao_mensal</th>\n",
       "    </tr>\n",
       "  </thead>\n",
       "  <tbody>\n",
       "    <tr>\n",
       "      <th>0</th>\n",
       "      <td>12-1979</td>\n",
       "      <td>NaN</td>\n",
       "    </tr>\n",
       "    <tr>\n",
       "      <th>1</th>\n",
       "      <td>1-1980</td>\n",
       "      <td>6.62</td>\n",
       "    </tr>\n",
       "    <tr>\n",
       "      <th>2</th>\n",
       "      <td>10-1980</td>\n",
       "      <td>9.48</td>\n",
       "    </tr>\n",
       "    <tr>\n",
       "      <th>3</th>\n",
       "      <td>11-1980</td>\n",
       "      <td>6.67</td>\n",
       "    </tr>\n",
       "    <tr>\n",
       "      <th>4</th>\n",
       "      <td>12-1980</td>\n",
       "      <td>6.61</td>\n",
       "    </tr>\n",
       "    <tr>\n",
       "      <th>...</th>\n",
       "      <td>...</td>\n",
       "      <td>...</td>\n",
       "    </tr>\n",
       "    <tr>\n",
       "      <th>164</th>\n",
       "      <td>5-1993</td>\n",
       "      <td>27.69</td>\n",
       "    </tr>\n",
       "    <tr>\n",
       "      <th>165</th>\n",
       "      <td>6-1993</td>\n",
       "      <td>30.07</td>\n",
       "    </tr>\n",
       "    <tr>\n",
       "      <th>166</th>\n",
       "      <td>7-1993</td>\n",
       "      <td>30.72</td>\n",
       "    </tr>\n",
       "    <tr>\n",
       "      <th>167</th>\n",
       "      <td>8-1993</td>\n",
       "      <td>32.96</td>\n",
       "    </tr>\n",
       "    <tr>\n",
       "      <th>168</th>\n",
       "      <td>9-1993</td>\n",
       "      <td>35.69</td>\n",
       "    </tr>\n",
       "  </tbody>\n",
       "</table>\n",
       "<p>169 rows × 2 columns</p>\n",
       "</div>"
      ],
      "text/plain": [
       "         mes  variacao_mensal\n",
       "0    12-1979              NaN\n",
       "1     1-1980             6.62\n",
       "2    10-1980             9.48\n",
       "3    11-1980             6.67\n",
       "4    12-1980             6.61\n",
       "..       ...              ...\n",
       "164   5-1993            27.69\n",
       "165   6-1993            30.07\n",
       "166   7-1993            30.72\n",
       "167   8-1993            32.96\n",
       "168   9-1993            35.69\n",
       "\n",
       "[169 rows x 2 columns]"
      ]
     },
     "execution_count": 5,
     "metadata": {},
     "output_type": "execute_result"
    }
   ],
   "source": [
    "# inflação mes a mes\n",
    "query = \"\"\"\n",
    "SELECT CONCAT(mes, \"-\", ano) mes, variacao_mensal\n",
    "FROM `basedosdados.br_ibge_ipca.mes_brasil`\n",
    "WHERE ano < 1994\n",
    "ORDER BY ano, mes ASC\n",
    "\"\"\"\n",
    "\n",
    "df = bd.read_sql(query, billing_project_id=\"pnad-estudo-lf\")\n",
    "df"
   ]
  },
  {
   "cell_type": "code",
   "execution_count": 58,
   "id": "b045c4be",
   "metadata": {},
   "outputs": [],
   "source": [
    "import matplotlib.pyplot as plt"
   ]
  },
  {
   "cell_type": "code",
   "execution_count": 83,
   "id": "e3b08aa8",
   "metadata": {},
   "outputs": [
    {
     "data": {
      "text/plain": [
       "<Axes: xlabel='mes'>"
      ]
     },
     "execution_count": 83,
     "metadata": {},
     "output_type": "execute_result"
    },
    {
     "data": {
      "image/png": "[encoded data removed]",
      "text/plain": [
       "<Figure size 640x480 with 1 Axes>"
      ]
     },
     "metadata": {},
     "output_type": "display_data"
    }
   ],
   "source": [
    "df.plot(x=\"mes\", y=\"variacao_mensal\")"
   ]
  },
  {
   "cell_type": "code",
   "execution_count": 84,
   "id": "c94874b9",
   "metadata": {},
   "outputs": [
    {
     "data": {
      "text/plain": [
       "variacao_mensal    15.488571\n",
       "dtype: float64"
      ]
     },
     "execution_count": 84,
     "metadata": {},
     "output_type": "execute_result"
    }
   ],
   "source": [
    "df.mean()"
   ]
  },
  {
   "cell_type": "code",
   "execution_count": 158,
   "id": "43da10db",
   "metadata": {},
   "outputs": [
    {
     "data": {
      "text/plain": [
       "variacao_mensal    12.768293\n",
       "dtype: float64"
      ]
     },
     "execution_count": 158,
     "metadata": {},
     "output_type": "execute_result"
    }
   ],
   "source": [
    "df.std()"
   ]
  },
  {
   "cell_type": "code",
   "execution_count": 86,
   "id": "deb809d5",
   "metadata": {},
   "outputs": [
    {
     "data": {
      "text/plain": [
       "variacao_mensal    11.205\n",
       "dtype: float64"
      ]
     },
     "execution_count": 86,
     "metadata": {},
     "output_type": "execute_result"
    }
   ],
   "source": [
    "df.median()"
   ]
  },
  {
   "cell_type": "code",
   "execution_count": null,
   "id": "b501bdce",
   "metadata": {},
   "outputs": [],
   "source": []
  },
  {
   "cell_type": "code",
   "execution_count": 162,
   "id": "f9a79f50",
   "metadata": {
    "scrolled": false
   },
   "outputs": [
    {
     "name": "stdout",
     "output_type": "stream",
     "text": [
      "media 15.396923076923077\n",
      "resultado std 12.73046079105791\n"
     ]
    }
   ],
   "source": [
    "def std_na_mao():\n",
    "    df['variacao_mensal'][0] = 0\n",
    "    variacao_mensal_var = df['variacao_mensal']\n",
    "    print(f\"media {variacao_mensal_var.mean()}\")\n",
    "    counteri = 0\n",
    "    for i in variacao_mensal_var:\n",
    "        counteri += (i - variacao_mensal_var.mean())**2\n",
    "    print(f\"resultado std {(counteri/variacao_mensal_var.count())**(1/2)}\")\n",
    "        \n",
    "std_na_mao()"
   ]
  },
  {
   "cell_type": "code",
   "execution_count": 168,
   "id": "780442a8",
   "metadata": {},
   "outputs": [
    {
     "data": {
      "text/plain": [
       "<Axes: ylabel='Frequency'>"
      ]
     },
     "execution_count": 168,
     "metadata": {},
     "output_type": "execute_result"
    },
    {
     "data": {
      "image/png": "[encoded data removed]",
      "text/plain": [
       "<Figure size 640x480 with 1 Axes>"
      ]
     },
     "metadata": {},
     "output_type": "display_data"
    }
   ],
   "source": [
    "df.plot.hist(bins=100)"
   ]
  },
  {
   "cell_type": "code",
   "execution_count": 8,
   "id": "9b9e5ae2",
   "metadata": {},
   "outputs": [
    {
     "ename": "AttributeError",
     "evalue": "'DataFrame' object has no attribute 'download'",
     "output_type": "error",
     "traceback": [
      "\u001b[0;31m---------------------------------------------------------------------------\u001b[0m",
      "\u001b[0;31mAttributeError\u001b[0m                            Traceback (most recent call last)",
      "Cell \u001b[0;32mIn[8], line 1\u001b[0m\n\u001b[0;32m----> 1\u001b[0m \u001b[43mdf\u001b[49m\u001b[38;5;241;43m.\u001b[39;49m\u001b[43mdownload\u001b[49m()\n",
      "File \u001b[0;32m~/anaconda3/lib/python3.10/site-packages/pandas/core/generic.py:5902\u001b[0m, in \u001b[0;36mNDFrame.__getattr__\u001b[0;34m(self, name)\u001b[0m\n\u001b[1;32m   5895\u001b[0m \u001b[38;5;28;01mif\u001b[39;00m (\n\u001b[1;32m   5896\u001b[0m     name \u001b[38;5;129;01mnot\u001b[39;00m \u001b[38;5;129;01min\u001b[39;00m \u001b[38;5;28mself\u001b[39m\u001b[38;5;241m.\u001b[39m_internal_names_set\n\u001b[1;32m   5897\u001b[0m     \u001b[38;5;129;01mand\u001b[39;00m name \u001b[38;5;129;01mnot\u001b[39;00m \u001b[38;5;129;01min\u001b[39;00m \u001b[38;5;28mself\u001b[39m\u001b[38;5;241m.\u001b[39m_metadata\n\u001b[1;32m   5898\u001b[0m     \u001b[38;5;129;01mand\u001b[39;00m name \u001b[38;5;129;01mnot\u001b[39;00m \u001b[38;5;129;01min\u001b[39;00m \u001b[38;5;28mself\u001b[39m\u001b[38;5;241m.\u001b[39m_accessors\n\u001b[1;32m   5899\u001b[0m     \u001b[38;5;129;01mand\u001b[39;00m \u001b[38;5;28mself\u001b[39m\u001b[38;5;241m.\u001b[39m_info_axis\u001b[38;5;241m.\u001b[39m_can_hold_identifiers_and_holds_name(name)\n\u001b[1;32m   5900\u001b[0m ):\n\u001b[1;32m   5901\u001b[0m     \u001b[38;5;28;01mreturn\u001b[39;00m \u001b[38;5;28mself\u001b[39m[name]\n\u001b[0;32m-> 5902\u001b[0m \u001b[38;5;28;01mreturn\u001b[39;00m \u001b[38;5;28;43mobject\u001b[39;49m\u001b[38;5;241;43m.\u001b[39;49m\u001b[38;5;21;43m__getattribute__\u001b[39;49m\u001b[43m(\u001b[49m\u001b[38;5;28;43mself\u001b[39;49m\u001b[43m,\u001b[49m\u001b[43m \u001b[49m\u001b[43mname\u001b[49m\u001b[43m)\u001b[49m\n",
      "\u001b[0;31mAttributeError\u001b[0m: 'DataFrame' object has no attribute 'download'"
     ]
    }
   ],
   "source": [
    "df.download()"
   ]
  },
  {
   "cell_type": "code",
   "execution_count": 17,
   "id": "053d83d7",
   "metadata": {},
   "outputs": [],
   "source": [
    "savepath=\"df2.csv\"\n",
    "query = \"\"\"\n",
    "SELECT CONCAT(mes, \"-\", ano) mes, variacao_mensal\n",
    "FROM `basedosdados.br_ibge_ipca.mes_brasil`\n",
    "WHERE ano < 1994\n",
    "ORDER BY ano, mes ASC\n",
    "\"\"\"\n",
    "df2 = bd.download(query=query, savepath=savepath, billing_project_id=\"pnad-estudo-lf\")"
   ]
  },
  {
   "cell_type": "markdown",
   "id": "ac0325e6",
   "metadata": {},
   "source": [
    "# PNAD por região"
   ]
  },
  {
   "cell_type": "code",
   "execution_count": 33,
   "id": "2e4589f8",
   "metadata": {},
   "outputs": [
    {
     "name": "stderr",
     "output_type": "stream",
     "text": [
      "Downloading: 100%|█████████████████████████| 100/100 [00:00<00:00, 255.41rows/s]\n"
     ]
    },
    {
     "data": {
      "text/html": [
       "<div>\n",
       "<style scoped>\n",
       "    .dataframe tbody tr th:only-of-type {\n",
       "        vertical-align: middle;\n",
       "    }\n",
       "\n",
       "    .dataframe tbody tr th {\n",
       "        vertical-align: top;\n",
       "    }\n",
       "\n",
       "    .dataframe thead th {\n",
       "        text-align: right;\n",
       "    }\n",
       "</style>\n",
       "<table border=\"1\" class=\"dataframe\">\n",
       "  <thead>\n",
       "    <tr style=\"text-align: right;\">\n",
       "      <th></th>\n",
       "      <th>ano</th>\n",
       "      <th>id_regiao</th>\n",
       "      <th>id_uf</th>\n",
       "      <th>sigla_uf</th>\n",
       "      <th>id_domicilio</th>\n",
       "      <th>regiao_metropolitana</th>\n",
       "      <th>numero_familia</th>\n",
       "      <th>ordem</th>\n",
       "      <th>condicao_domicilio</th>\n",
       "      <th>condicao_familia</th>\n",
       "      <th>...</th>\n",
       "      <th>renda_mensal_produto_mercadoria_outra_deflacionado</th>\n",
       "      <th>renda_mensal_ocupacao_principal_deflacionado</th>\n",
       "      <th>renda_mensal_todos_trabalhos_deflacionado</th>\n",
       "      <th>renda_mensal_todas_fontes_deflacionado</th>\n",
       "      <th>renda_mensal_familia_deflacionado</th>\n",
       "      <th>renda_aposentadoria_deflacionado</th>\n",
       "      <th>renda_pensao_deflacionado</th>\n",
       "      <th>renda_abono_deflacionado</th>\n",
       "      <th>renda_aluguel_deflacionado</th>\n",
       "      <th>renda_outras_deflacionado</th>\n",
       "    </tr>\n",
       "  </thead>\n",
       "  <tbody>\n",
       "    <tr>\n",
       "      <th>0</th>\n",
       "      <td>1981</td>\n",
       "      <td>2</td>\n",
       "      <td>27</td>\n",
       "      <td>AL</td>\n",
       "      <td>198157001001</td>\n",
       "      <td>0</td>\n",
       "      <td>1</td>\n",
       "      <td>1</td>\n",
       "      <td>1</td>\n",
       "      <td>1</td>\n",
       "      <td>...</td>\n",
       "      <td>NaN</td>\n",
       "      <td>857.0</td>\n",
       "      <td>857.0</td>\n",
       "      <td>857.0</td>\n",
       "      <td>1314.0</td>\n",
       "      <td>NaN</td>\n",
       "      <td>NaN</td>\n",
       "      <td>NaN</td>\n",
       "      <td>NaN</td>\n",
       "      <td>NaN</td>\n",
       "    </tr>\n",
       "    <tr>\n",
       "      <th>1</th>\n",
       "      <td>1981</td>\n",
       "      <td>2</td>\n",
       "      <td>27</td>\n",
       "      <td>AL</td>\n",
       "      <td>198157001002</td>\n",
       "      <td>0</td>\n",
       "      <td>1</td>\n",
       "      <td>1</td>\n",
       "      <td>1</td>\n",
       "      <td>1</td>\n",
       "      <td>...</td>\n",
       "      <td>NaN</td>\n",
       "      <td>286.0</td>\n",
       "      <td>286.0</td>\n",
       "      <td>286.0</td>\n",
       "      <td>857.0</td>\n",
       "      <td>NaN</td>\n",
       "      <td>NaN</td>\n",
       "      <td>NaN</td>\n",
       "      <td>NaN</td>\n",
       "      <td>NaN</td>\n",
       "    </tr>\n",
       "    <tr>\n",
       "      <th>2</th>\n",
       "      <td>1981</td>\n",
       "      <td>2</td>\n",
       "      <td>27</td>\n",
       "      <td>AL</td>\n",
       "      <td>198157001003</td>\n",
       "      <td>0</td>\n",
       "      <td>1</td>\n",
       "      <td>1</td>\n",
       "      <td>1</td>\n",
       "      <td>1</td>\n",
       "      <td>...</td>\n",
       "      <td>NaN</td>\n",
       "      <td>457.0</td>\n",
       "      <td>457.0</td>\n",
       "      <td>457.0</td>\n",
       "      <td>457.0</td>\n",
       "      <td>NaN</td>\n",
       "      <td>NaN</td>\n",
       "      <td>NaN</td>\n",
       "      <td>NaN</td>\n",
       "      <td>NaN</td>\n",
       "    </tr>\n",
       "    <tr>\n",
       "      <th>3</th>\n",
       "      <td>1981</td>\n",
       "      <td>2</td>\n",
       "      <td>27</td>\n",
       "      <td>AL</td>\n",
       "      <td>198157001004</td>\n",
       "      <td>0</td>\n",
       "      <td>1</td>\n",
       "      <td>1</td>\n",
       "      <td>1</td>\n",
       "      <td>1</td>\n",
       "      <td>...</td>\n",
       "      <td>NaN</td>\n",
       "      <td>574.0</td>\n",
       "      <td>574.0</td>\n",
       "      <td>574.0</td>\n",
       "      <td>826.0</td>\n",
       "      <td>NaN</td>\n",
       "      <td>NaN</td>\n",
       "      <td>NaN</td>\n",
       "      <td>NaN</td>\n",
       "      <td>NaN</td>\n",
       "    </tr>\n",
       "    <tr>\n",
       "      <th>4</th>\n",
       "      <td>1981</td>\n",
       "      <td>2</td>\n",
       "      <td>27</td>\n",
       "      <td>AL</td>\n",
       "      <td>198157001005</td>\n",
       "      <td>0</td>\n",
       "      <td>1</td>\n",
       "      <td>1</td>\n",
       "      <td>1</td>\n",
       "      <td>1</td>\n",
       "      <td>...</td>\n",
       "      <td>NaN</td>\n",
       "      <td>343.0</td>\n",
       "      <td>343.0</td>\n",
       "      <td>343.0</td>\n",
       "      <td>343.0</td>\n",
       "      <td>NaN</td>\n",
       "      <td>NaN</td>\n",
       "      <td>NaN</td>\n",
       "      <td>NaN</td>\n",
       "      <td>NaN</td>\n",
       "    </tr>\n",
       "    <tr>\n",
       "      <th>...</th>\n",
       "      <td>...</td>\n",
       "      <td>...</td>\n",
       "      <td>...</td>\n",
       "      <td>...</td>\n",
       "      <td>...</td>\n",
       "      <td>...</td>\n",
       "      <td>...</td>\n",
       "      <td>...</td>\n",
       "      <td>...</td>\n",
       "      <td>...</td>\n",
       "      <td>...</td>\n",
       "      <td>...</td>\n",
       "      <td>...</td>\n",
       "      <td>...</td>\n",
       "      <td>...</td>\n",
       "      <td>...</td>\n",
       "      <td>...</td>\n",
       "      <td>...</td>\n",
       "      <td>...</td>\n",
       "      <td>...</td>\n",
       "      <td>...</td>\n",
       "    </tr>\n",
       "    <tr>\n",
       "      <th>95</th>\n",
       "      <td>1981</td>\n",
       "      <td>2</td>\n",
       "      <td>27</td>\n",
       "      <td>AL</td>\n",
       "      <td>198157007913</td>\n",
       "      <td>0</td>\n",
       "      <td>1</td>\n",
       "      <td>1</td>\n",
       "      <td>1</td>\n",
       "      <td>1</td>\n",
       "      <td>...</td>\n",
       "      <td>NaN</td>\n",
       "      <td>10286.0</td>\n",
       "      <td>10286.0</td>\n",
       "      <td>10286.0</td>\n",
       "      <td>10286.0</td>\n",
       "      <td>NaN</td>\n",
       "      <td>NaN</td>\n",
       "      <td>NaN</td>\n",
       "      <td>NaN</td>\n",
       "      <td>NaN</td>\n",
       "    </tr>\n",
       "    <tr>\n",
       "      <th>96</th>\n",
       "      <td>1981</td>\n",
       "      <td>2</td>\n",
       "      <td>27</td>\n",
       "      <td>AL</td>\n",
       "      <td>198157007914</td>\n",
       "      <td>0</td>\n",
       "      <td>1</td>\n",
       "      <td>1</td>\n",
       "      <td>1</td>\n",
       "      <td>1</td>\n",
       "      <td>...</td>\n",
       "      <td>NaN</td>\n",
       "      <td>11429.0</td>\n",
       "      <td>11429.0</td>\n",
       "      <td>21784.0</td>\n",
       "      <td>21784.0</td>\n",
       "      <td>8572.0</td>\n",
       "      <td>NaN</td>\n",
       "      <td>NaN</td>\n",
       "      <td>NaN</td>\n",
       "      <td>1783.0</td>\n",
       "    </tr>\n",
       "    <tr>\n",
       "      <th>97</th>\n",
       "      <td>1981</td>\n",
       "      <td>2</td>\n",
       "      <td>27</td>\n",
       "      <td>AL</td>\n",
       "      <td>198157007915</td>\n",
       "      <td>0</td>\n",
       "      <td>1</td>\n",
       "      <td>1</td>\n",
       "      <td>1</td>\n",
       "      <td>1</td>\n",
       "      <td>...</td>\n",
       "      <td>NaN</td>\n",
       "      <td>663.0</td>\n",
       "      <td>663.0</td>\n",
       "      <td>663.0</td>\n",
       "      <td>663.0</td>\n",
       "      <td>NaN</td>\n",
       "      <td>NaN</td>\n",
       "      <td>NaN</td>\n",
       "      <td>NaN</td>\n",
       "      <td>NaN</td>\n",
       "    </tr>\n",
       "    <tr>\n",
       "      <th>98</th>\n",
       "      <td>1981</td>\n",
       "      <td>2</td>\n",
       "      <td>27</td>\n",
       "      <td>AL</td>\n",
       "      <td>198157007916</td>\n",
       "      <td>0</td>\n",
       "      <td>1</td>\n",
       "      <td>1</td>\n",
       "      <td>1</td>\n",
       "      <td>1</td>\n",
       "      <td>...</td>\n",
       "      <td>NaN</td>\n",
       "      <td>17144.0</td>\n",
       "      <td>17144.0</td>\n",
       "      <td>20573.0</td>\n",
       "      <td>42222.0</td>\n",
       "      <td>NaN</td>\n",
       "      <td>NaN</td>\n",
       "      <td>NaN</td>\n",
       "      <td>3429.0</td>\n",
       "      <td>NaN</td>\n",
       "    </tr>\n",
       "    <tr>\n",
       "      <th>99</th>\n",
       "      <td>1981</td>\n",
       "      <td>2</td>\n",
       "      <td>27</td>\n",
       "      <td>AL</td>\n",
       "      <td>198157007917</td>\n",
       "      <td>0</td>\n",
       "      <td>1</td>\n",
       "      <td>1</td>\n",
       "      <td>1</td>\n",
       "      <td>1</td>\n",
       "      <td>...</td>\n",
       "      <td>NaN</td>\n",
       "      <td>9143.0</td>\n",
       "      <td>9429.0</td>\n",
       "      <td>9429.0</td>\n",
       "      <td>11143.0</td>\n",
       "      <td>NaN</td>\n",
       "      <td>NaN</td>\n",
       "      <td>NaN</td>\n",
       "      <td>NaN</td>\n",
       "      <td>NaN</td>\n",
       "    </tr>\n",
       "  </tbody>\n",
       "</table>\n",
       "<p>100 rows × 70 columns</p>\n",
       "</div>"
      ],
      "text/plain": [
       "     ano id_regiao id_uf sigla_uf  id_domicilio regiao_metropolitana  \\\n",
       "0   1981         2    27       AL  198157001001                    0   \n",
       "1   1981         2    27       AL  198157001002                    0   \n",
       "2   1981         2    27       AL  198157001003                    0   \n",
       "3   1981         2    27       AL  198157001004                    0   \n",
       "4   1981         2    27       AL  198157001005                    0   \n",
       "..   ...       ...   ...      ...           ...                  ...   \n",
       "95  1981         2    27       AL  198157007913                    0   \n",
       "96  1981         2    27       AL  198157007914                    0   \n",
       "97  1981         2    27       AL  198157007915                    0   \n",
       "98  1981         2    27       AL  198157007916                    0   \n",
       "99  1981         2    27       AL  198157007917                    0   \n",
       "\n",
       "    numero_familia  ordem condicao_domicilio condicao_familia  ...  \\\n",
       "0                1      1                  1                1  ...   \n",
       "1                1      1                  1                1  ...   \n",
       "2                1      1                  1                1  ...   \n",
       "3                1      1                  1                1  ...   \n",
       "4                1      1                  1                1  ...   \n",
       "..             ...    ...                ...              ...  ...   \n",
       "95               1      1                  1                1  ...   \n",
       "96               1      1                  1                1  ...   \n",
       "97               1      1                  1                1  ...   \n",
       "98               1      1                  1                1  ...   \n",
       "99               1      1                  1                1  ...   \n",
       "\n",
       "    renda_mensal_produto_mercadoria_outra_deflacionado  \\\n",
       "0                                                 NaN    \n",
       "1                                                 NaN    \n",
       "2                                                 NaN    \n",
       "3                                                 NaN    \n",
       "4                                                 NaN    \n",
       "..                                                ...    \n",
       "95                                                NaN    \n",
       "96                                                NaN    \n",
       "97                                                NaN    \n",
       "98                                                NaN    \n",
       "99                                                NaN    \n",
       "\n",
       "   renda_mensal_ocupacao_principal_deflacionado  \\\n",
       "0                                         857.0   \n",
       "1                                         286.0   \n",
       "2                                         457.0   \n",
       "3                                         574.0   \n",
       "4                                         343.0   \n",
       "..                                          ...   \n",
       "95                                      10286.0   \n",
       "96                                      11429.0   \n",
       "97                                        663.0   \n",
       "98                                      17144.0   \n",
       "99                                       9143.0   \n",
       "\n",
       "    renda_mensal_todos_trabalhos_deflacionado  \\\n",
       "0                                       857.0   \n",
       "1                                       286.0   \n",
       "2                                       457.0   \n",
       "3                                       574.0   \n",
       "4                                       343.0   \n",
       "..                                        ...   \n",
       "95                                    10286.0   \n",
       "96                                    11429.0   \n",
       "97                                      663.0   \n",
       "98                                    17144.0   \n",
       "99                                     9429.0   \n",
       "\n",
       "    renda_mensal_todas_fontes_deflacionado  renda_mensal_familia_deflacionado  \\\n",
       "0                                    857.0                             1314.0   \n",
       "1                                    286.0                              857.0   \n",
       "2                                    457.0                              457.0   \n",
       "3                                    574.0                              826.0   \n",
       "4                                    343.0                              343.0   \n",
       "..                                     ...                                ...   \n",
       "95                                 10286.0                            10286.0   \n",
       "96                                 21784.0                            21784.0   \n",
       "97                                   663.0                              663.0   \n",
       "98                                 20573.0                            42222.0   \n",
       "99                                  9429.0                            11143.0   \n",
       "\n",
       "    renda_aposentadoria_deflacionado renda_pensao_deflacionado  \\\n",
       "0                                NaN                       NaN   \n",
       "1                                NaN                       NaN   \n",
       "2                                NaN                       NaN   \n",
       "3                                NaN                       NaN   \n",
       "4                                NaN                       NaN   \n",
       "..                               ...                       ...   \n",
       "95                               NaN                       NaN   \n",
       "96                            8572.0                       NaN   \n",
       "97                               NaN                       NaN   \n",
       "98                               NaN                       NaN   \n",
       "99                               NaN                       NaN   \n",
       "\n",
       "   renda_abono_deflacionado renda_aluguel_deflacionado  \\\n",
       "0                       NaN                        NaN   \n",
       "1                       NaN                        NaN   \n",
       "2                       NaN                        NaN   \n",
       "3                       NaN                        NaN   \n",
       "4                       NaN                        NaN   \n",
       "..                      ...                        ...   \n",
       "95                      NaN                        NaN   \n",
       "96                      NaN                        NaN   \n",
       "97                      NaN                        NaN   \n",
       "98                      NaN                     3429.0   \n",
       "99                      NaN                        NaN   \n",
       "\n",
       "   renda_outras_deflacionado  \n",
       "0                        NaN  \n",
       "1                        NaN  \n",
       "2                        NaN  \n",
       "3                        NaN  \n",
       "4                        NaN  \n",
       "..                       ...  \n",
       "95                       NaN  \n",
       "96                    1783.0  \n",
       "97                       NaN  \n",
       "98                       NaN  \n",
       "99                       NaN  \n",
       "\n",
       "[100 rows x 70 columns]"
      ]
     },
     "execution_count": 33,
     "metadata": {},
     "output_type": "execute_result"
    }
   ],
   "source": [
    "query = \"\"\"\n",
    "SELECT *\n",
    "FROM `basedosdados.br_ibge_pnad.microdados_compatibilizados_pessoa`\n",
    "LIMIT 100\n",
    "\n",
    "\"\"\"\n",
    "\n",
    "pnad_bd = bd.read_sql(query, billing_project_id=\"pnad-estudo-lf\")\n",
    "pnad_bd"
   ]
  },
  {
   "cell_type": "code",
   "execution_count": 54,
   "id": "94560fca",
   "metadata": {},
   "outputs": [
    {
     "name": "stderr",
     "output_type": "stream",
     "text": [
      "Downloading: 100%|█████████████████████████| 147/147 [00:00<00:00, 375.13rows/s]\n"
     ]
    }
   ],
   "source": [
    "query = \"\"\"\n",
    "SELECT ano, id_regiao, AVG(renda_mensal_todas_fontes_deflacionado) as renda_principal\n",
    "FROM `basedosdados.br_ibge_pnad.microdados_compatibilizados_pessoa`\n",
    "GROUP BY ano, id_regiao\n",
    "ORDER BY ano, id_regiao ASC\n",
    "\"\"\"\n",
    "\n",
    "pnad_bd2 = bd.read_sql(query, billing_project_id=\"pnad-estudo-lf\")"
   ]
  },
  {
   "cell_type": "code",
   "execution_count": 41,
   "id": "cb3a4758",
   "metadata": {},
   "outputs": [],
   "source": [
    "savepath=\"pnad_renda_principal_por_ano_regiao_2.csv\"\n",
    "query = \"\"\"\n",
    "SELECT ano, id_regiao, AVG(renda_mensal_todas_fontes_deflacionado) as renda_principal\n",
    "FROM `basedosdados.br_ibge_pnad.microdados_compatibilizados_pessoa`\n",
    "GROUP BY ano, id_regiao\n",
    "ORDER BY ano, id_regiao ASC\n",
    "\"\"\"\n",
    "pnad_renda_principal_por_ano_regiao_2 = bd.download(query=query, savepath=savepath, billing_project_id=\"pnad-estudo-lf\")"
   ]
  },
  {
   "cell_type": "markdown",
   "id": "1d72ff68",
   "metadata": {},
   "source": [
    "# analisando pnad por regiao"
   ]
  },
  {
   "cell_type": "code",
   "execution_count": 151,
   "id": "9d340f91",
   "metadata": {},
   "outputs": [
    {
     "name": "stderr",
     "output_type": "stream",
     "text": [
      "Downloading: 100%|█████████████████████████| 147/147 [00:00<00:00, 415.22rows/s]\n"
     ]
    },
    {
     "data": {
      "text/html": [
       "<div>\n",
       "<style scoped>\n",
       "    .dataframe tbody tr th:only-of-type {\n",
       "        vertical-align: middle;\n",
       "    }\n",
       "\n",
       "    .dataframe tbody tr th {\n",
       "        vertical-align: top;\n",
       "    }\n",
       "\n",
       "    .dataframe thead th {\n",
       "        text-align: right;\n",
       "    }\n",
       "</style>\n",
       "<table border=\"1\" class=\"dataframe\">\n",
       "  <thead>\n",
       "    <tr style=\"text-align: right;\">\n",
       "      <th></th>\n",
       "      <th>ano</th>\n",
       "      <th>id_regiao</th>\n",
       "      <th>renda_principal</th>\n",
       "    </tr>\n",
       "  </thead>\n",
       "  <tbody>\n",
       "    <tr>\n",
       "      <th>0</th>\n",
       "      <td>1981</td>\n",
       "      <td>1</td>\n",
       "      <td>1346.093623</td>\n",
       "    </tr>\n",
       "    <tr>\n",
       "      <th>1</th>\n",
       "      <td>1981</td>\n",
       "      <td>2</td>\n",
       "      <td>954.291961</td>\n",
       "    </tr>\n",
       "    <tr>\n",
       "      <th>2</th>\n",
       "      <td>1981</td>\n",
       "      <td>3</td>\n",
       "      <td>1578.145017</td>\n",
       "    </tr>\n",
       "    <tr>\n",
       "      <th>3</th>\n",
       "      <td>1981</td>\n",
       "      <td>4</td>\n",
       "      <td>1514.080444</td>\n",
       "    </tr>\n",
       "    <tr>\n",
       "      <th>4</th>\n",
       "      <td>1981</td>\n",
       "      <td>5</td>\n",
       "      <td>1591.423138</td>\n",
       "    </tr>\n",
       "    <tr>\n",
       "      <th>...</th>\n",
       "      <td>...</td>\n",
       "      <td>...</td>\n",
       "      <td>...</td>\n",
       "    </tr>\n",
       "    <tr>\n",
       "      <th>142</th>\n",
       "      <td>2015</td>\n",
       "      <td>1</td>\n",
       "      <td>NaN</td>\n",
       "    </tr>\n",
       "    <tr>\n",
       "      <th>143</th>\n",
       "      <td>2015</td>\n",
       "      <td>2</td>\n",
       "      <td>NaN</td>\n",
       "    </tr>\n",
       "    <tr>\n",
       "      <th>144</th>\n",
       "      <td>2015</td>\n",
       "      <td>3</td>\n",
       "      <td>NaN</td>\n",
       "    </tr>\n",
       "    <tr>\n",
       "      <th>145</th>\n",
       "      <td>2015</td>\n",
       "      <td>4</td>\n",
       "      <td>NaN</td>\n",
       "    </tr>\n",
       "    <tr>\n",
       "      <th>146</th>\n",
       "      <td>2015</td>\n",
       "      <td>5</td>\n",
       "      <td>NaN</td>\n",
       "    </tr>\n",
       "  </tbody>\n",
       "</table>\n",
       "<p>147 rows × 3 columns</p>\n",
       "</div>"
      ],
      "text/plain": [
       "      ano id_regiao  renda_principal\n",
       "0    1981         1      1346.093623\n",
       "1    1981         2       954.291961\n",
       "2    1981         3      1578.145017\n",
       "3    1981         4      1514.080444\n",
       "4    1981         5      1591.423138\n",
       "..    ...       ...              ...\n",
       "142  2015         1              NaN\n",
       "143  2015         2              NaN\n",
       "144  2015         3              NaN\n",
       "145  2015         4              NaN\n",
       "146  2015         5              NaN\n",
       "\n",
       "[147 rows x 3 columns]"
      ]
     },
     "execution_count": 151,
     "metadata": {},
     "output_type": "execute_result"
    }
   ],
   "source": [
    "query = \"\"\"\n",
    "SELECT ano, id_regiao, AVG(renda_mensal_todas_fontes_deflacionado) as renda_principal\n",
    "FROM `basedosdados.br_ibge_pnad.microdados_compatibilizados_pessoa`\n",
    "GROUP BY ano, id_regiao\n",
    "ORDER BY ano, id_regiao ASC\n",
    "\"\"\"\n",
    "\n",
    "pnad_bd2 = bd.read_sql(query, billing_project_id=\"pnad-estudo-lf\")\n",
    "pnad_bd2\n"
   ]
  },
  {
   "cell_type": "code",
   "execution_count": 48,
   "id": "98247834",
   "metadata": {},
   "outputs": [
    {
     "name": "stderr",
     "output_type": "stream",
     "text": [
      "Downloading: 100%|█████████████████████████| 100/100 [00:00<00:00, 244.11rows/s]\n"
     ]
    },
    {
     "data": {
      "text/html": [
       "<div>\n",
       "<style scoped>\n",
       "    .dataframe tbody tr th:only-of-type {\n",
       "        vertical-align: middle;\n",
       "    }\n",
       "\n",
       "    .dataframe tbody tr th {\n",
       "        vertical-align: top;\n",
       "    }\n",
       "\n",
       "    .dataframe thead th {\n",
       "        text-align: right;\n",
       "    }\n",
       "</style>\n",
       "<table border=\"1\" class=\"dataframe\">\n",
       "  <thead>\n",
       "    <tr style=\"text-align: right;\">\n",
       "      <th></th>\n",
       "      <th>ano</th>\n",
       "      <th>id_regiao</th>\n",
       "      <th>renda_principal</th>\n",
       "    </tr>\n",
       "  </thead>\n",
       "  <tbody>\n",
       "    <tr>\n",
       "      <th>0</th>\n",
       "      <td>1981</td>\n",
       "      <td>1</td>\n",
       "      <td>1346.093623</td>\n",
       "    </tr>\n",
       "    <tr>\n",
       "      <th>1</th>\n",
       "      <td>1981</td>\n",
       "      <td>2</td>\n",
       "      <td>954.291961</td>\n",
       "    </tr>\n",
       "    <tr>\n",
       "      <th>2</th>\n",
       "      <td>1981</td>\n",
       "      <td>3</td>\n",
       "      <td>1578.145017</td>\n",
       "    </tr>\n",
       "    <tr>\n",
       "      <th>3</th>\n",
       "      <td>1981</td>\n",
       "      <td>4</td>\n",
       "      <td>1514.080444</td>\n",
       "    </tr>\n",
       "    <tr>\n",
       "      <th>4</th>\n",
       "      <td>1981</td>\n",
       "      <td>5</td>\n",
       "      <td>1591.423138</td>\n",
       "    </tr>\n",
       "    <tr>\n",
       "      <th>...</th>\n",
       "      <td>...</td>\n",
       "      <td>...</td>\n",
       "      <td>...</td>\n",
       "    </tr>\n",
       "    <tr>\n",
       "      <th>95</th>\n",
       "      <td>2004</td>\n",
       "      <td>4</td>\n",
       "      <td>1317.340725</td>\n",
       "    </tr>\n",
       "    <tr>\n",
       "      <th>96</th>\n",
       "      <td>2004</td>\n",
       "      <td>5</td>\n",
       "      <td>1280.143730</td>\n",
       "    </tr>\n",
       "    <tr>\n",
       "      <th>97</th>\n",
       "      <td>2005</td>\n",
       "      <td>1</td>\n",
       "      <td>939.675528</td>\n",
       "    </tr>\n",
       "    <tr>\n",
       "      <th>98</th>\n",
       "      <td>2005</td>\n",
       "      <td>2</td>\n",
       "      <td>779.161467</td>\n",
       "    </tr>\n",
       "    <tr>\n",
       "      <th>99</th>\n",
       "      <td>2005</td>\n",
       "      <td>3</td>\n",
       "      <td>1322.770378</td>\n",
       "    </tr>\n",
       "  </tbody>\n",
       "</table>\n",
       "<p>100 rows × 3 columns</p>\n",
       "</div>"
      ],
      "text/plain": [
       "     ano id_regiao  renda_principal\n",
       "0   1981         1      1346.093623\n",
       "1   1981         2       954.291961\n",
       "2   1981         3      1578.145017\n",
       "3   1981         4      1514.080444\n",
       "4   1981         5      1591.423138\n",
       "..   ...       ...              ...\n",
       "95  2004         4      1317.340725\n",
       "96  2004         5      1280.143730\n",
       "97  2005         1       939.675528\n",
       "98  2005         2       779.161467\n",
       "99  2005         3      1322.770378\n",
       "\n",
       "[100 rows x 3 columns]"
      ]
     },
     "execution_count": 48,
     "metadata": {},
     "output_type": "execute_result"
    }
   ],
   "source": [
    "query = \"\"\"\n",
    "SELECT ano, id_regiao, AVG(renda_mensal_todas_fontes_deflacionado) as renda_principal\n",
    "FROM `basedosdados.br_ibge_pnad.microdados_compatibilizados_pessoa`\n",
    "GROUP BY ano, id_regiao\n",
    "ORDER BY ano, id_regiao ASC\n",
    "\"\"\"\n",
    "\n",
    "pnad_bd2 = bd.read_sql(query, billing_project_id=\"pnad-estudo-lf\")\n",
    "pnad_bd2"
   ]
  },
  {
   "cell_type": "code",
   "execution_count": 118,
   "id": "11e9d474",
   "metadata": {},
   "outputs": [
    {
     "data": {
      "text/plain": [
       "10"
      ]
     },
     "execution_count": 118,
     "metadata": {},
     "output_type": "execute_result"
    }
   ],
   "source": []
  },
  {
   "cell_type": "code",
   "execution_count": 120,
   "id": "4414e7a3",
   "metadata": {},
   "outputs": [
    {
     "name": "stdout",
     "output_type": "stream",
     "text": [
      "<class 'int'>\n"
     ]
    }
   ],
   "source": []
  },
  {
   "cell_type": "code",
   "execution_count": null,
   "id": "c64d18e1",
   "metadata": {},
   "outputs": [],
   "source": []
  }
 ],
 "metadata": {
  "kernelspec": {
   "display_name": "Python 3 (ipykernel)",
   "language": "python",
   "name": "python3"
  },
  "language_info": {
   "codemirror_mode": {
    "name": "ipython",
    "version": 3
   },
   "file_extension": ".py",
   "mimetype": "text/x-python",
   "name": "python",
   "nbconvert_exporter": "python",
   "pygments_lexer": "ipython3",
   "version": "3.10.9"
  }
 },
 "nbformat": 4,
 "nbformat_minor": 5
}
